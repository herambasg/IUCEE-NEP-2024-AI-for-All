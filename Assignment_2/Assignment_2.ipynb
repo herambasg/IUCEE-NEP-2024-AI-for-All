{
 "cells": [
  {
   "cell_type": "code",
   "execution_count": 3,
   "id": "0e0d6a9e-24ec-4654-b218-b88d6f861724",
   "metadata": {},
   "outputs": [
    {
     "name": "stdout",
     "output_type": "stream",
     "text": [
      "3\n"
     ]
    }
   ],
   "source": [
    "# 2a. randint() fuction\n",
    "\n",
    "import random\n",
    "number = random.randint(1, 10)\n",
    "print(number)"
   ]
  },
  {
   "cell_type": "code",
   "execution_count": 18,
   "id": "6871cc14-b6b6-4f46-828e-f7a5d0e7d266",
   "metadata": {},
   "outputs": [
    {
     "ename": "TypeError",
     "evalue": "'module' object is not callable",
     "output_type": "error",
     "traceback": [
      "\u001b[1;31m---------------------------------------------------------------------------\u001b[0m",
      "\u001b[1;31mTypeError\u001b[0m                                 Traceback (most recent call last)",
      "Cell \u001b[1;32mIn[18], line 4\u001b[0m\n\u001b[0;32m      1\u001b[0m \u001b[38;5;66;03m# 2b. replacing randint() with random()\u001b[39;00m\n\u001b[0;32m      3\u001b[0m \u001b[38;5;28;01mimport\u001b[39;00m \u001b[38;5;21;01mrandom\u001b[39;00m\n\u001b[1;32m----> 4\u001b[0m number \u001b[38;5;241m=\u001b[39m random(\u001b[38;5;241m1\u001b[39m, \u001b[38;5;241m10\u001b[39m)\n\u001b[0;32m      5\u001b[0m \u001b[38;5;28mprint\u001b[39m(number)\n",
      "\u001b[1;31mTypeError\u001b[0m: 'module' object is not callable"
     ]
    }
   ],
   "source": [
    "# 2b. replacing randint() with random()\n",
    "\n",
    "import random\n",
    "number = random(1, 10)\n",
    "print(number)\n",
    "\n",
    "# random is a module, we cannot call a module directly as a function. Instead, we need to use randint() function from random module"
   ]
  },
  {
   "cell_type": "code",
   "execution_count": 17,
   "id": "5e4f07fb-5ad4-4c81-a626-a3d0d0e5251a",
   "metadata": {},
   "outputs": [
    {
     "name": "stdout",
     "output_type": "stream",
     "text": [
      "7.631222820689825\n"
     ]
    }
   ],
   "source": [
    "# 2c. replacing randint() with random.uniform(1.0, 10.0)\n",
    "\n",
    "import random\n",
    "number = random.uniform(1.0, 10.0)\n",
    "print(number)"
   ]
  },
  {
   "cell_type": "code",
   "execution_count": 5,
   "id": "411ea2d7-d51d-4041-891c-30c2f0797bbe",
   "metadata": {},
   "outputs": [
    {
     "name": "stdout",
     "output_type": "stream",
     "text": [
      "1\n"
     ]
    }
   ],
   "source": [
    "# 2d. numpy program\n",
    "\n",
    "import numpy\n",
    "random_number = numpy.random.randint(1, 10)\n",
    "print(random_number)"
   ]
  },
  {
   "cell_type": "code",
   "execution_count": 14,
   "id": "9d77023f-9c4a-42b2-b995-2fafffb51240",
   "metadata": {},
   "outputs": [
    {
     "name": "stdout",
     "output_type": "stream",
     "text": [
      "1\n"
     ]
    }
   ],
   "source": [
    "# 2e. without random module\n",
    "\n",
    "number = random.randint(1, 10)\n",
    "print(number)"
   ]
  },
  {
   "cell_type": "code",
   "execution_count": 15,
   "id": "3b63ae99-b1e7-4a7f-91c9-fa5e95ef08f4",
   "metadata": {},
   "outputs": [
    {
     "ename": "SyntaxError",
     "evalue": "unterminated string literal (detected at line 6) (951946377.py, line 6)",
     "output_type": "error",
     "traceback": [
      "\u001b[1;36m  Cell \u001b[1;32mIn[15], line 6\u001b[1;36m\u001b[0m\n\u001b[1;33m    y = data['Salary’]\u001b[0m\n\u001b[1;37m             ^\u001b[0m\n\u001b[1;31mSyntaxError\u001b[0m\u001b[1;31m:\u001b[0m unterminated string literal (detected at line 6)\n"
     ]
    }
   ],
   "source": [
    "# Python code to read a csv file\n",
    "\n",
    "import numpy as np\n",
    "import pandas as pd\n",
    "import matplotlib.pyplot as plt.\n",
    "data = pd.read_csv('Salary_Data.csv')\n",
    "x = data['YearsExperience']\n",
    "y = data['Salary’]\n",
    "print(data.head())\n",
    "YearsExperience Salary\n",
    "0 1.1 39343.0\n",
    "1 1.3 46205.0\n",
    "2 1.5 37731.0\n",
    "3 2.0 43525.0\n",
    "4 2.2 39891.0"
   ]
  },
  {
   "cell_type": "code",
   "execution_count": null,
   "id": "e3f6649a-5b5e-4d33-88df-80e1cd94c6de",
   "metadata": {},
   "outputs": [],
   "source": []
  }
 ],
 "metadata": {
  "kernelspec": {
   "display_name": "Python 3 (ipykernel)",
   "language": "python",
   "name": "python3"
  },
  "language_info": {
   "codemirror_mode": {
    "name": "ipython",
    "version": 3
   },
   "file_extension": ".py",
   "mimetype": "text/x-python",
   "name": "python",
   "nbconvert_exporter": "python",
   "pygments_lexer": "ipython3",
   "version": "3.11.7"
  }
 },
 "nbformat": 4,
 "nbformat_minor": 5
}
