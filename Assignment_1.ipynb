{
 "cells": [
  {
   "cell_type": "code",
   "execution_count": 1,
   "id": "821dfc98-0798-4435-948a-5a702e58bb53",
   "metadata": {},
   "outputs": [
    {
     "name": "stdout",
     "output_type": "stream",
     "text": [
      "Sum of 15 and 12 is 27\n"
     ]
    }
   ],
   "source": [
    "# 1a. Python3 program to add two numbers Using “+” Operator\n",
    "num1 = 15\n",
    "num2 = 12\n",
    "sum = num1 + num2\n",
    "print(\"Sum of\", num1, \"and\", num2 , \"is\", sum)"
   ]
  },
  {
   "cell_type": "code",
   "execution_count": 3,
   "id": "e1ba9617-feed-46fb-b6d5-d3ca205d5eb1",
   "metadata": {},
   "outputs": [
    {
     "name": "stdin",
     "output_type": "stream",
     "text": [
      "First number:  12\n",
      "\n",
      "Second number:  13\n"
     ]
    },
    {
     "name": "stdout",
     "output_type": "stream",
     "text": [
      "\n",
      "The sum of 12 and 13 is 25.0\n"
     ]
    }
   ],
   "source": [
    "# 1b. Python3 program to add two numbers using User Input\n",
    "number1 = input(\"First number: \")\n",
    "number2 = input(\"\\nSecond number: \") #escape sequence\\n\n",
    "\n",
    "# Adding two numbers\n",
    "# User might also enter float numbers\n",
    "sum = float(number1) + float(number2)\n",
    "\n",
    "# Display the sum\n",
    "# will print the value in float\n",
    "print(\"\\nThe sum of {0} and {1} is {2}\" .format(number1, number2, sum))"
   ]
  },
  {
   "cell_type": "code",
   "execution_count": 4,
   "id": "a5dd33d0-a494-48fd-9635-e2891caa5402",
   "metadata": {},
   "outputs": [
    {
     "name": "stdout",
     "output_type": "stream",
     "text": [
      "Sum of 10 and 5 is 15;\n"
     ]
    }
   ],
   "source": [
    "# 1c. Python3 program to add two numbers using 'Function Call'\n",
    "\n",
    "#Define a function that takes two\n",
    "#integers and returns the sum\n",
    "def add(a,b):\n",
    "    return a+b\n",
    "    \n",
    "#initialize the variables\n",
    "num1 = 10\n",
    "num2 = 5\n",
    "\n",
    "#function calling and storing the result into sum_of_twonumbers\n",
    "sum_of_twonumbers = add(num1,num2)\n",
    "\n",
    "#To print the result\n",
    "print(\"Sum of {0} and {1} is {2};\" .format(num1, num2, sum_of_twonumbers))"
   ]
  },
  {
   "cell_type": "code",
   "execution_count": 5,
   "id": "405ab1b7-b5b0-4892-ad56-6179ba79b942",
   "metadata": {},
   "outputs": [
    {
     "name": "stdout",
     "output_type": "stream",
     "text": [
      "Sum of 15 and 12 is 27\n"
     ]
    }
   ],
   "source": [
    "# 1d.  Python3 program to add two numbers using 'operator.add()'\n",
    "\n",
    "num1 = 15\n",
    "num2 = 12\n",
    "\n",
    "# Adding two numbers\n",
    "import operator\n",
    "sum = operator.add(num1,num2)\n",
    "\n",
    "# printing values\n",
    "print(\"Sum of {0} and {1} is {2}\" .format(num1, num2, sum))"
   ]
  },
  {
   "cell_type": "code",
   "execution_count": 7,
   "id": "bec65bc7-581a-4216-92fb-044937f16541",
   "metadata": {},
   "outputs": [
    {
     "name": "stdin",
     "output_type": "stream",
     "text": [
      "\n",
      "Enter a number:  7\n"
     ]
    },
    {
     "name": "stdout",
     "output_type": "stream",
     "text": [
      "Factorial of 7 is 5040\n"
     ]
    }
   ],
   "source": [
    "# 2. Factorial Program\n",
    "\n",
    "def factorial(n):\n",
    "    # single line to find factorial\n",
    "    return 1 if (n==1 or n==0) else n * factorial(n - 1)\n",
    "\n",
    "a = int(input(\"\\nEnter a number: \"))\n",
    "print(\"Factorial of\",a,\"is\",factorial(a))"
   ]
  }
 ],
 "metadata": {
  "kernelspec": {
   "display_name": "Python 3 (ipykernel)",
   "language": "python",
   "name": "python3"
  },
  "language_info": {
   "codemirror_mode": {
    "name": "ipython",
    "version": 3
   },
   "file_extension": ".py",
   "mimetype": "text/x-python",
   "name": "python",
   "nbconvert_exporter": "python",
   "pygments_lexer": "ipython3",
   "version": "3.11.7"
  }
 },
 "nbformat": 4,
 "nbformat_minor": 5
}
